{
  "cells": [
    {
      "cell_type": "markdown",
      "metadata": {
        "id": "uU8KB6kQ48ZE"
      },
      "source": [
        "# In Depth - Decision Trees and Forests"
      ]
    },
    {
      "cell_type": "code",
      "execution_count": null,
      "metadata": {
        "id": "J2WfxfZ948ZF"
      },
      "outputs": [],
      "source": [
        "%matplotlib inline\n",
        "import numpy as np\n",
        "import matplotlib.pyplot as plt"
      ]
    },
    {
      "cell_type": "code",
      "execution_count": null,
      "metadata": {
        "id": "9AJU2BTxQMMS"
      },
      "outputs": [],
      "source": [
        "import helper"
      ]
    },
    {
      "cell_type": "markdown",
      "metadata": {
        "id": "Js3pgHvs48ZI"
      },
      "source": [
        "Here we'll explore a class of algorithms based on decision trees.\n",
        "Decision trees at their root are extremely intuitive.  They\n",
        "encode a series of \"if\" and \"else\" choices, similar to how a person might make a decision.\n",
        "However, which questions to ask, and how to proceed for each answer is entirely learned from the data.\n",
        "\n",
        "For example, if you wanted to create a guide to identifying an animal found in nature, you\n",
        "might ask the following series of questions:\n",
        "\n",
        "- Is the animal bigger or smaller than a meter long?\n",
        "    + *bigger*: does the animal have horns?\n",
        "        - *yes*: are the horns longer than ten centimeters?\n",
        "        - *no*: is the animal wearing a collar\n",
        "    + *smaller*: does the animal have two or four legs?\n",
        "        - *two*: does the animal have wings?\n",
        "        - *four*: does the animal have a bushy tail?\n",
        "\n",
        "and so on.  This binary splitting of questions is the essence of a decision tree."
      ]
    },
    {
      "cell_type": "markdown",
      "metadata": {
        "id": "-WivV7_H48ZJ"
      },
      "source": [
        "One of the main benefit of tree-based models is that they require little preprocessing of the data.\n",
        "They can work with variables of different types (continuous and discrete) and are invariant to scaling of the features.\n",
        "\n",
        "Another benefit is that tree-based models are what is called \"nonparametric\", which means they don't have a fix set of parameters to learn. Instead, a tree model can become more and more flexible, if given more data.\n",
        "In other words, the number of free parameters grows with the number of samples and is not fixed, as for example in linear models.\n"
      ]
    },
    {
      "cell_type": "markdown",
      "metadata": {
        "id": "fucc_La_48ZK"
      },
      "source": [
        "## Decision Tree Regression"
      ]
    },
    {
      "cell_type": "markdown",
      "metadata": {
        "id": "arRKBE-E48ZK"
      },
      "source": [
        "A decision tree is a simple binary classification tree that is\n",
        "similar to nearest neighbor classification.  It can be used as follows:"
      ]
    },
    {
      "cell_type": "code",
      "execution_count": null,
      "metadata": {
        "id": "EbDn6uFj48ZL",
        "outputId": "696fcf2c-4c46-41d1-97e4-8b05b4e79738"
      },
      "outputs": [
        {
          "data": {
            "image/png": "[encoded data removed]",
            "text/plain": [
              "<Figure size 432x288 with 1 Axes>"
            ]
          },
          "metadata": {
            "needs_background": "light"
          },
          "output_type": "display_data"
        }
      ],
      "source": [
        "x = np.linspace(-3, 3, 100)\n",
        "X = x[:, np.newaxis]\n",
        "rng = np.random.RandomState(42)\n",
        "y = np.sin(4 * x) + x + rng.uniform(size=len(x))\n",
        "\n",
        "plt.figure()\n",
        "plt.xlabel('Feature X')\n",
        "plt.ylabel('Target y')\n",
        "plt.scatter(X, y);"
      ]
    },
    {
      "cell_type": "code",
      "execution_count": null,
      "metadata": {
        "id": "7R5OB7ft48ZO",
        "outputId": "2ef7e438-190d-426f-e027-29c63f8579a8"
      },
      "outputs": [
        {
          "data": {
            "image/png": "[encoded data removed]",
            "text/plain": [
              "<Figure size 432x288 with 1 Axes>"
            ]
          },
          "metadata": {
            "needs_background": "light"
          },
          "output_type": "display_data"
        }
      ],
      "source": [
        "from sklearn.tree import DecisionTreeRegressor\n",
        "\n",
        "reg = DecisionTreeRegressor(max_depth=5)\n",
        "reg.fit(X, y)\n",
        "\n",
        "X_fit = np.linspace(-3, 3, 1000).reshape((-1, 1))\n",
        "y_fit_1 = reg.predict(X_fit)\n",
        "\n",
        "plt.figure()\n",
        "plt.plot(X_fit.ravel(), y_fit_1, color='tab:blue', label=\"prediction\")\n",
        "plt.plot(X.ravel(), y, 'C7.', label=\"training data\")\n",
        "plt.legend(loc=\"best\");"
      ]
    },
    {
      "cell_type": "markdown",
      "metadata": {
        "id": "f6inBXjC48ZR"
      },
      "source": [
        "A single decision tree allows us to estimate the signal in a non-parametric way,\n",
        "but clearly has some issues.  In some regions, the model shows high bias and\n",
        "under-fits the data.\n",
        "(seen in the long flat lines which don't follow the contours of the data),\n",
        "while in other regions the model shows high variance and over-fits the data\n",
        "(reflected in the narrow spikes which are influenced by noise in single points)."
      ]
    },
    {
      "cell_type": "markdown",
      "metadata": {
        "id": "wF8KIYrx48ZR"
      },
      "source": [
        "Decision Tree Classification\n",
        "==================\n",
        "Decision tree classification work very similarly, by assigning all points within a leaf the majority class in that leaf:\n"
      ]
    },
    {
      "cell_type": "code",
      "source": [
        "\n",
        "def plot_2d_separator(classifier, X, fill=False, ax=None, eps=None):\n",
        "    if eps is None:\n",
        "        eps = X.std() / 2.\n",
        "    x_min, x_max = X[:, 0].min() - eps, X[:, 0].max() + eps\n",
        "    y_min, y_max = X[:, 1].min() - eps, X[:, 1].max() + eps\n",
        "    xx = np.linspace(x_min, x_max, 100)\n",
        "    yy = np.linspace(y_min, y_max, 100)\n",
        "\n",
        "    X1, X2 = np.meshgrid(xx, yy)\n",
        "    X_grid = np.c_[X1.ravel(), X2.ravel()]\n",
        "    try:\n",
        "        decision_values = classifier.decision_function(X_grid)\n",
        "        levels = [0]\n",
        "        fill_levels = [decision_values.min(), 0, decision_values.max()]\n",
        "    except AttributeError:\n",
        "        # no decision_function\n",
        "        decision_values = classifier.predict_proba(X_grid)[:, 1]\n",
        "        levels = [.5]\n",
        "        fill_levels = [0, .5, 1]\n",
        "\n",
        "    if ax is None:\n",
        "        ax = plt.gca()\n",
        "    if fill:\n",
        "        ax.contourf(X1, X2, decision_values.reshape(X1.shape),\n",
        "                    levels=fill_levels, colors=['blue', 'red'])\n",
        "    else:\n",
        "        ax.contour(X1, X2, decision_values.reshape(X1.shape), levels=levels,\n",
        "                   colors=\"black\")\n",
        "    ax.set_xlim(x_min, x_max)\n",
        "    ax.set_ylim(y_min, y_max)\n",
        "    ax.set_xticks(())\n",
        "    ax.set_yticks(())"
      ],
      "metadata": {
        "id": "3jgZCh7E7wHY"
      },
      "execution_count": 3,
      "outputs": []
    },
    {
      "cell_type": "code",
      "execution_count": 6,
      "metadata": {
        "colab": {
          "base_uri": "https://localhost:8080/",
          "height": 406
        },
        "id": "CEnNKrDh48ZS",
        "outputId": "b7e86983-334a-4d3e-d47a-fde3744162dd"
      },
      "outputs": [
        {
          "output_type": "display_data",
          "data": {
            "text/plain": [
              "<Figure size 640x480 with 1 Axes>"
            ],
            "image/png": "[encoded data removed]"
          },
          "metadata": {}
        }
      ],
      "source": [
        "from sklearn.datasets import make_blobs\n",
        "from sklearn.model_selection import train_test_split\n",
        "from sklearn.tree import DecisionTreeClassifier\n",
        "\n",
        "X, y = make_blobs(centers=[[0, 0], [1, 1]], random_state=61526, n_samples=100)\n",
        "X_train, X_test, y_train, y_test = train_test_split(X, y, random_state=42)\n",
        "\n",
        "clf = DecisionTreeClassifier(max_depth=5)\n",
        "clf.fit(X_train, y_train)\n",
        "\n",
        "plt.figure()\n",
        "plot_2d_separator(clf, X, fill=True)\n",
        "plt.scatter(X_train[:, 0], X_train[:, 1], c=y_train, s=60, alpha=.7, edgecolor='k')\n",
        "plt.scatter(X_test[:, 0], X_test[:, 1], c=y_test, s=60, edgecolor='k');"
      ]
    },
    {
      "cell_type": "markdown",
      "metadata": {
        "id": "ril5iz__48ZV"
      },
      "source": [
        "There are many parameter that control the complexity of a tree, but the one that might be easiest to understand is the maximum depth. This limits how finely the tree can partition the input space, or how many \"if-else\" questions can be asked before deciding which class a sample lies in.\n",
        "\n",
        "This parameter is important to tune for trees and tree-based models. The interactive plot below shows how underfit and overfit looks like for this model. Having a ``max_depth`` of 1 is clearly an underfit model, while a depth of 7 or 8 clearly overfits. The maximum depth a tree can be grown at for this dataset is 8, at which point each leave only contains samples from a single class. This is known as all leaves being \"pure.\"\n",
        "\n",
        "In the interactive plot below, the regions are assigned blue and red colors to indicate the predicted class for that region. The shade of the color indicates the predicted probability for that class (darker = higher probability), while yellow regions indicate an equal predicted probability for either class."
      ]
    },
    {
      "cell_type": "code",
      "execution_count": 7,
      "metadata": {
        "colab": {
          "base_uri": "https://localhost:8080/",
          "height": 736
        },
        "id": "CKtqb_rr48ZW",
        "outputId": "e08e6a86-cf2a-412c-f257-5b2bfd06d2c1"
      },
      "outputs": [
        {
          "output_type": "execute_result",
          "data": {
            "text/plain": [
              "[Text(0.40625, 0.9, 'x[1] <= 0.346\\ngini = 0.499\\nsamples = 75\\nvalue = [36, 39]'),\n",
              " Text(0.125, 0.7, 'x[0] <= 0.164\\ngini = 0.328\\nsamples = 29\\nvalue = [23, 6]'),\n",
              " Text(0.0625, 0.5, 'gini = 0.0\\nsamples = 13\\nvalue = [13, 0]'),\n",
              " Text(0.1875, 0.5, 'x[0] <= 0.217\\ngini = 0.469\\nsamples = 16\\nvalue = [10, 6]'),\n",
              " Text(0.125, 0.3, 'gini = 0.0\\nsamples = 2\\nvalue = [0, 2]'),\n",
              " Text(0.25, 0.3, 'x[0] <= 2.736\\ngini = 0.408\\nsamples = 14\\nvalue = [10, 4]'),\n",
              " Text(0.1875, 0.1, '\\n  (...)  \\n'),\n",
              " Text(0.3125, 0.1, '\\n  (...)  \\n'),\n",
              " Text(0.6875, 0.7, 'x[0] <= 1.03\\ngini = 0.405\\nsamples = 46\\nvalue = [13, 33]'),\n",
              " Text(0.5625, 0.5, 'x[1] <= 1.768\\ngini = 0.494\\nsamples = 27\\nvalue = [12, 15]'),\n",
              " Text(0.5, 0.3, 'x[1] <= 0.458\\ngini = 0.499\\nsamples = 23\\nvalue = [12, 11]'),\n",
              " Text(0.4375, 0.1, '\\n  (...)  \\n'),\n",
              " Text(0.5625, 0.1, '\\n  (...)  \\n'),\n",
              " Text(0.625, 0.3, 'gini = 0.0\\nsamples = 4\\nvalue = [0, 4]'),\n",
              " Text(0.8125, 0.5, 'x[0] <= 1.756\\ngini = 0.1\\nsamples = 19\\nvalue = [1, 18]'),\n",
              " Text(0.75, 0.3, 'gini = 0.0\\nsamples = 14\\nvalue = [0, 14]'),\n",
              " Text(0.875, 0.3, 'x[0] <= 1.794\\ngini = 0.32\\nsamples = 5\\nvalue = [1, 4]'),\n",
              " Text(0.8125, 0.1, '\\n  (...)  \\n'),\n",
              " Text(0.9375, 0.1, '\\n  (...)  \\n')]"
            ]
          },
          "metadata": {},
          "execution_count": 7
        },
        {
          "output_type": "display_data",
          "data": {
            "text/plain": [
              "<Figure size 640x480 with 1 Axes>"
            ],
            "image/png": "[encoded data removed]"
          },
          "metadata": {}
        }
      ],
      "source": [
        "from sklearn import tree\n",
        "max_depth = 3\n",
        "tree.plot_tree(clf,max_depth=max_depth)"
      ]
    },
    {
      "cell_type": "markdown",
      "metadata": {
        "id": "Key6FGwb48ZY"
      },
      "source": [
        "Decision trees are fast to train, easy to understand, and often lead to interpretable models. However, single trees often tend to overfit the training data. Playing with the slider above you might notice that the model starts to overfit even before it has a good separation between the classes.\n",
        "\n",
        "Therefore, in practice it is more common to combine multiple trees to produce models that generalize better. The most common methods for combining trees are random forests and gradient boosted trees.\n"
      ]
    },
    {
      "cell_type": "markdown",
      "metadata": {
        "id": "4APknJIh48ZZ"
      },
      "source": [
        "## Random Forests"
      ]
    },
    {
      "cell_type": "markdown",
      "metadata": {
        "id": "ctqKvznG48ZZ"
      },
      "source": [
        "Random forests are simply many trees, built on different random subsets (drawn with replacement) of the data, and using different random subsets (drawn without replacement) of the features for each split.\n",
        "This makes the trees different from each other, and makes them overfit to different aspects. Then, their predictions are averaged, leading to a smoother estimate that overfits less.\n"
      ]
    },
    {
      "cell_type": "code",
      "execution_count": null,
      "metadata": {
        "id": "fboy42Bb48Za"
      },
      "outputs": [],
      "source": [
        "#from figures import plot_forest\n",
        "#max_depth = 3\n",
        "#plot_forest(max_depth=max_depth)"
      ]
    },
    {
      "cell_type": "markdown",
      "metadata": {
        "id": "ErLrQeqZS-qU"
      },
      "source": [
        "## Selecting the Optimal Estimator via Cross-Validation"
      ]
    },
    {
      "cell_type": "code",
      "execution_count": null,
      "metadata": {
        "id": "Q8230D_GS-qD",
        "outputId": "9dcdb784-3e6c-481d-9140-50dac7b94cf1"
      },
      "outputs": [
        {
          "data": {
            "text/plain": [
              "GridSearchCV(estimator=RandomForestClassifier(n_estimators=200), n_jobs=-1,\n",
              "             param_grid={'max_depth': [5, 7, 9],\n",
              "                         'max_features': ['sqrt', 'log2', 10]})"
            ]
          },
          "execution_count": 23,
          "metadata": {},
          "output_type": "execute_result"
        }
      ],
      "source": [
        "from sklearn.model_selection import GridSearchCV\n",
        "from sklearn.datasets import load_digits\n",
        "from sklearn.ensemble import RandomForestClassifier\n",
        "\n",
        "digits = load_digits()\n",
        "X, y = digits.data, digits.target\n",
        "\n",
        "X_train, X_test, y_train, y_test = train_test_split(X, y, random_state=42)\n",
        "\n",
        "rf = RandomForestClassifier(n_estimators=200)\n",
        "parameters = {'max_features':['sqrt', 'log2', 10],\n",
        "              'max_depth':[5, 7, 9]}\n",
        "\n",
        "clf_grid = GridSearchCV(rf, parameters, n_jobs=-1)\n",
        "clf_grid.fit(X_train, y_train)"
      ]
    },
    {
      "cell_type": "code",
      "execution_count": null,
      "metadata": {
        "id": "-KGZAIsiS-p6",
        "outputId": "545e2098-665a-4d0d-e395-cae988ed13eb"
      },
      "outputs": [
        {
          "data": {
            "text/plain": [
              "1.0"
            ]
          },
          "execution_count": 24,
          "metadata": {},
          "output_type": "execute_result"
        }
      ],
      "source": [
        "clf_grid.score(X_train, y_train)"
      ]
    },
    {
      "cell_type": "code",
      "execution_count": null,
      "metadata": {
        "id": "71n31fD8S-ph",
        "outputId": "a42dd76a-2f23-415e-ba6b-d5203aa303d3"
      },
      "outputs": [
        {
          "data": {
            "text/plain": [
              "0.9711111111111111"
            ]
          },
          "execution_count": 25,
          "metadata": {},
          "output_type": "execute_result"
        }
      ],
      "source": [
        "clf_grid.score(X_test, y_test)"
      ]
    },
    {
      "cell_type": "markdown",
      "metadata": {
        "id": "U853cPTr48Zl"
      },
      "source": [
        "## Another option: Gradient Boosting"
      ]
    },
    {
      "cell_type": "markdown",
      "metadata": {
        "id": "-lEI8WtJ48Zm"
      },
      "source": [
        "Another Ensemble method that can be useful is *Boosting*: here, rather than\n",
        "looking at 200 (say) parallel estimators, We construct a chain of 200 estimators\n",
        "which iteratively refine the results of the previous estimator.\n",
        "The idea is that by sequentially applying very fast, simple models, we can get a\n",
        "total model error which is better than any of the individual pieces."
      ]
    },
    {
      "cell_type": "code",
      "execution_count": null,
      "metadata": {
        "id": "OlGLjbHj48Zm",
        "outputId": "7eea4aa1-4951-44a6-9122-b0ba98ad0b09"
      },
      "outputs": [
        {
          "name": "stdout",
          "output_type": "stream",
          "text": [
            "0.9975520554767698\n",
            "0.858081131939469\n"
          ]
        }
      ],
      "source": [
        "from sklearn.ensemble import GradientBoostingRegressor\n",
        "clf = GradientBoostingRegressor(n_estimators=100, max_depth=5, learning_rate=.2)\n",
        "clf.fit(X_train, y_train)\n",
        "\n",
        "print(clf.score(X_train, y_train))\n",
        "print(clf.score(X_test, y_test))"
      ]
    },
    {
      "cell_type": "markdown",
      "metadata": {
        "id": "BKiA_PCX48Zp"
      },
      "source": [
        "<div class=\"alert alert-success\">\n",
        "    <b>EXERCISE: Cross-validating Gradient Boosting</b>:\n",
        "     <ul>\n",
        "      <li>\n",
        "      Use a grid search to optimize the `learning_rate` and `max_depth` for a Gradient Boosted\n",
        "Decision tree on the digits data set.\n",
        "      </li>\n",
        "    </ul>\n",
        "</div>"
      ]
    },
    {
      "cell_type": "code",
      "execution_count": null,
      "metadata": {
        "id": "VmSztDkn48Zp"
      },
      "outputs": [],
      "source": [
        "from sklearn.datasets import load_digits\n",
        "from sklearn.ensemble import GradientBoostingClassifier\n",
        "\n",
        "digits = load_digits()\n",
        "X_digits, y_digits = digits.data, digits.target\n",
        "\n",
        "# split the dataset, apply grid-search"
      ]
    },
    {
      "cell_type": "code",
      "execution_count": null,
      "metadata": {
        "id": "V8d8FESn48Zt"
      },
      "outputs": [],
      "source": []
    },
    {
      "cell_type": "markdown",
      "metadata": {
        "id": "wA45fr2648Zv"
      },
      "source": [
        "## Feature importance\n",
        "\n",
        "Both RandomForest and GradientBoosting objects expose a `feature_importances_` attribute when fitted. This attribute is one of the most powerful feature of these models. They basically quantify how much each feature contributes to gain in performance in the nodes of the different trees."
      ]
    },
    {
      "cell_type": "code",
      "execution_count": null,
      "metadata": {
        "id": "wULwUYOy48Zw",
        "outputId": "b453a5d2-ec25-4d29-a679-cba25cffb274"
      },
      "outputs": [
        {
          "name": "stdout",
          "output_type": "stream",
          "text": [
            "[0.00000000e+00 0.00000000e+00 7.22672044e-04 7.16929168e-03\n",
            " 6.54148878e-04 3.08776805e-03 3.98981899e-03 0.00000000e+00\n",
            " 0.00000000e+00 9.47282183e-04 1.68985455e-02 1.23286468e-03\n",
            " 2.74309430e-03 1.26631480e-03 5.80532925e-04 0.00000000e+00\n",
            " 2.90540982e-04 6.89356771e-03 1.11426594e-02 4.45866397e-02\n",
            " 5.74081588e-02 2.75256588e-03 8.78663616e-03 0.00000000e+00\n",
            " 3.70713624e-05 3.55916259e-03 1.65084384e-03 7.71171945e-02\n",
            " 1.13999370e-01 1.93305364e-03 8.03693284e-02 0.00000000e+00\n",
            " 0.00000000e+00 1.64715575e-02 3.57844163e-03 2.48594349e-02\n",
            " 1.95792992e-01 2.45409067e-03 9.28657679e-02 0.00000000e+00\n",
            " 0.00000000e+00 2.41302820e-02 2.38733169e-02 1.27381176e-02\n",
            " 7.72330756e-02 3.45578469e-03 2.26904095e-02 0.00000000e+00\n",
            " 0.00000000e+00 1.40104163e-04 2.69481649e-02 3.92952836e-03\n",
            " 2.19298974e-04 1.93701596e-03 3.99685194e-04 1.96264980e-04\n",
            " 0.00000000e+00 3.63612410e-05 7.37686740e-04 9.00938820e-03\n",
            " 3.05391167e-04 2.99388501e-03 2.66513498e-03 5.19692198e-04]\n"
          ]
        }
      ],
      "source": [
        "X, y = X_digits[y_digits < 2], y_digits[y_digits < 2]\n",
        "\n",
        "rf = RandomForestClassifier(n_estimators=300, n_jobs=1)\n",
        "rf.fit(X, y)\n",
        "print(rf.feature_importances_)  # one value per feature"
      ]
    },
    {
      "cell_type": "code",
      "execution_count": null,
      "metadata": {
        "id": "oDcfiiIn48Zy",
        "outputId": "f515cf15-b918-4e0b-9a64-d49370d488bc"
      },
      "outputs": [
        {
          "data": {
            "text/plain": [
              "<matplotlib.image.AxesImage at 0x157202b0>"
            ]
          },
          "execution_count": 14,
          "metadata": {},
          "output_type": "execute_result"
        },
        {
          "data": {
            "image/png": "[encoded data removed]",
            "text/plain": [
              "<Figure size 432x288 with 1 Axes>"
            ]
          },
          "metadata": {
            "needs_background": "light"
          },
          "output_type": "display_data"
        }
      ],
      "source": [
        "plt.figure()\n",
        "plt.imshow(rf.feature_importances_.reshape(8, 8), cmap=plt.cm.viridis, interpolation='nearest')"
      ]
    },
    {
      "cell_type": "code",
      "execution_count": null,
      "metadata": {
        "id": "62YWi1LO48Z0"
      },
      "outputs": [],
      "source": []
    }
  ],
  "metadata": {
    "anaconda-cloud": {},
    "colab": {
      "provenance": []
    },
    "kernelspec": {
      "display_name": "Python 3 (ipykernel)",
      "language": "python",
      "name": "python3"
    },
    "language_info": {
      "codemirror_mode": {
        "name": "ipython",
        "version": 3
      },
      "file_extension": ".py",
      "mimetype": "text/x-python",
      "name": "python",
      "nbconvert_exporter": "python",
      "pygments_lexer": "ipython3",
      "version": "3.10.2"
    }
  },
  "nbformat": 4,
  "nbformat_minor": 0
}